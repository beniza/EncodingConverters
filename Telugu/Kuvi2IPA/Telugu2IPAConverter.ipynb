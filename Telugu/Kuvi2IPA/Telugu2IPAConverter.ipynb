{
 "cells": [
  {
   "cell_type": "markdown",
   "metadata": {},
   "source": [
    "# Telugu 2 IPA Converter\n",
    "This projects aims at creating an encoding converter that can be used for converting Telugu (ISO 15924: `telu`) text to IPA. I might change this converter to a generic Indic to IPA converter. \n",
    "\n",
    "At the `stage 1` of this project, I'm only converting a subset of Telugu used in a minority language named Kuvi (ISO 639-3: `kxv`)."
   ]
  },
  {
   "cell_type": "markdown",
   "metadata": {},
   "source": [
    "This project is created to convert a corpus in Kuvi language into IPA. Due to the restrictions on the redistribution of the text, I can't share the original corpus publicly. However, the code is open source and is shared under a `CC-BY-SA`, `MIT` license. Please feel free to modify it."
   ]
  },
  {
   "cell_type": "markdown",
   "metadata": {},
   "source": [
    "The crucial part of this project is to create a file that maps the Telugu Unicode Codepoints with IPA. Since I'm not a Telugu speaker, I'm planning to use any publicly available mappings and I found a [Wikipedia article](https://en.wikipedia.org/wiki/Telugu_script) with the relevant information. "
   ]
  },
  {
   "cell_type": "markdown",
   "metadata": {},
   "source": [
    "## The code\n",
    "We use Python3 for this project."
   ]
  },
  {
   "cell_type": "markdown",
   "metadata": {},
   "source": [
    "### Libraries"
   ]
  },
  {
   "cell_type": "code",
   "execution_count": 27,
   "metadata": {},
   "outputs": [],
   "source": [
    "import os # for file operations\n",
    "import re # for text parsing\n",
    "import string #for cleanup\n",
    "import unicodedata # for processing the unicode text\n",
    "import pprint # for formatting"
   ]
  },
  {
   "cell_type": "markdown",
   "metadata": {},
   "source": [
    "### Load source files\n",
    "The sources files are (`Standard Format Markup: sfm`) marked up text "
   ]
  },
  {
   "cell_type": "code",
   "execution_count": 5,
   "metadata": {},
   "outputs": [
    {
     "name": "stdout",
     "output_type": "stream",
     "text": [
      "['01GENKUVI.SFM', '02EXOKUVI.SFM', '03LEVKUVI.SFM', '04NUMKUVI.SFM', '05DEUKUVI.SFM', '06JOSKUVI.SFM', '07JDGKUVI.SFM', '091SAKUVI.SFM', '102SAKUVI.SFM', '122KIKUVI.SFM', '131CHKUVI.SFM', '142CHKUVI.SFM', '19PSAKUVI.SFM', '20PROKUVI.SFM', '23ISAKUVI.SFM', '24JERKUVI.SFM', '28HOSKUVI.SFM', '32JONKUVI.SFM', '33MICKUVI.SFM', '38ZECKUVI.SFM', '41MATKUVI.SFM', '42MRKKUVI.SFM', '43LUKKUVI.SFM', '44JHNKUVI.SFM', '45ACTKUVI.SFM', '46ROMKUVI.SFM', '471COKUVI.SFM', '482COKUVI.SFM', '49GALKUVI.SFM', '50EPHKUVI.SFM', '51PHPKUVI.SFM', '52COLKUVI.SFM', '531THKUVI.SFM', '542THKUVI.SFM', '551TIKUVI.SFM', '562TIKUVI.SFM', '57TITKUVI.SFM', '58PHMKUVI.SFM', '59HEBKUVI.SFM', '60JASKUVI.SFM', '611PEKUVI.SFM', '622PEKUVI.SFM', '631JNKUVI.SFM', '642JNKUVI.SFM', '653JNKUVI.SFM', '66JUDKUVI.SFM', '67REVKUVI.SFM', '94XXAKUVI.SFM', '95XXBKUVI.SFM']\n"
     ]
    }
   ],
   "source": [
    "# kuvi_corpus_path = \"C:\\Users\\<user_name>\\Kuvi\"\n",
    "kuvi_corpus_path = \"E:\\My Paratext 9 Projects\\KUVI\"\n",
    "bible_files = [fn for fn in os.listdir(kuvi_corpus_path) if re.match(r'[0-9]+.*\\.SFM', fn)]\n",
    "print(bible_files)"
   ]
  },
  {
   "cell_type": "code",
   "execution_count": 6,
   "metadata": {},
   "outputs": [],
   "source": [
    "bible_text = \"\"\n",
    "\n",
    "for book in bible_files:\n",
    "    f = open(os.path.join(kuvi_corpus_path, book), 'r', encoding=\"utf-8\")\n",
    "    bible_text += f.read()\n"
   ]
  },
  {
   "cell_type": "markdown",
   "metadata": {},
   "source": [
    "### Cleanup\n",
    "Get rid of the markups, English alphabets, punctuations and numerals as we are not interested in them "
   ]
  },
  {
   "cell_type": "code",
   "execution_count": 8,
   "metadata": {},
   "outputs": [],
   "source": [
    "#bible_text = re.sub(\"\\\\\\\\[A-Za-z0-9]*?\\\\\\\\s\", \"\", bible_text)\n",
    "bible_text = re.sub(\"\\\\\\\\id .*\\n\", \"\", bible_text)\n",
    "bible_text = re.sub(\"\\\\\\\\[A-Za-z0-9]*?\\s\", \"\", bible_text)\n",
    "bible_text = re.sub(\"[A-Za-z0-9]\", \"\", bible_text)\n",
    "bible_text = re.sub(\"\\n\", \"\", bible_text)"
   ]
  },
  {
   "cell_type": "markdown",
   "metadata": {},
   "source": [
    "#### Remove punctuation characters\n",
    "\n",
    "Removing the punctuations from the text to avoid clutter.\n",
    "```\n",
    "Although there are several ways/approaches to accomplish this, using the translate method of the strings seem to be the most efficient method.\n",
    "```\n",
    "[Source: StackOverFlow](https://stackoverflow.com/questions/265960/best-way-to-strip-punctuation-from-a-string)"
   ]
  },
  {
   "cell_type": "code",
   "execution_count": 19,
   "metadata": {},
   "outputs": [],
   "source": [
    "s = bible_text"
   ]
  },
  {
   "cell_type": "code",
   "execution_count": 22,
   "metadata": {},
   "outputs": [],
   "source": [
    "table = str.maketrans(dict.fromkeys(string.punctuation))  # OR {key: None for key in string.punctuation}\n",
    "bible_text = s.translate(table) "
   ]
  },
  {
   "cell_type": "markdown",
   "metadata": {},
   "source": [
    "#### python 2\n",
    "> On Python 2, you'll have to use a different code to accomplish this.\n",
    "\n",
    "```python\n",
    "import string\n",
    "\n",
    "s = \"string. With. Punctuation?\"\n",
    "table = string.maketrans(\"\",\"\")\n",
    "new_s = s.translate(table, string.punctuation)      # Output: string without punctuation\n",
    "```\n",
    "\n",
    "#### Warning\n",
    "While it is easy to run a global cleanup like this to clean your text, you don't want to inadvertantly removing the punctuation marks with a `semantic role` in the text. So if your text has such usages of punctuation marks, please be careful and do it using another approaches. NLTK has modules that can do this out of the box.\n",
    "\n"
   ]
  },
  {
   "cell_type": "code",
   "execution_count": 24,
   "metadata": {},
   "outputs": [
    {
     "data": {
      "text/plain": [
       "'ఆదిఆదిఆదికాండం తొల్లిమూలు మహపురు హాగుతి బూమితి రచ్చి కిత్తెసి బూమిత ఏనయి హిల్లఅతె ఏని వాణవ హిల్లఅన వరఅయిఎ మచ్చె ఏ హారెఎ క్డుహాని ఏయుణ అందెరి ప్డిక్హాఁచె మహపురుజీవు ఏయులెక్కొ బర్రె పొర్హాఁచ్చెసి ఉజ్జెడి ఆపె ఇంజిఁ మహపురు వెస్సలిఎ ఉజ్జెడి ఆతె ఉజ్జెడి నెహఁయి ఇంజిఁ మహపురు మెస్తెసి అందెరిటి ఉజ్జెడితి మహపురు ఏర్సితెసి ఉజ్జెడితి మద్దెన ఇంజిఁ అందెరితి లాఅఁయఁ ఇంజిఁ మహపురు దోర్క ఇట్టితెసి అందెరి ఆహఁ వేయ్యలిఎ మూలుతి దిన్న ఆతె ఓడె ఏయుటి ఏయు ఎట్క ఆనిలేఁకిఁ ఏదఅఁ మద్ది హారెఎ పడ్డ ఆతి పొరొ ఆపెదెఁ ఇంజిఁ మహపురు వె'"
      ]
     },
     "execution_count": 24,
     "metadata": {},
     "output_type": "execute_result"
    }
   ],
   "source": [
    "bible_text[:500]"
   ]
  },
  {
   "cell_type": "markdown",
   "metadata": {},
   "source": [
    "### Create a character inventory with count"
   ]
  },
  {
   "cell_type": "code",
   "execution_count": 25,
   "metadata": {},
   "outputs": [],
   "source": [
    "char_inventory = {}\n",
    "\n",
    "for char in bible_text:\n",
    "    try:\n",
    "        char_inventory[char] += 1\n",
    "    except:\n",
    "        char_inventory[char] = 1\n"
   ]
  },
  {
   "cell_type": "code",
   "execution_count": null,
   "metadata": {},
   "outputs": [],
   "source": [
    "o = open(\"kuvi.tab\", mode='w', encoding='utf-8')\n",
    "for key, value in char_inventory.items():\n",
    "    \n",
    "    try:\n",
    "        o.write(key + \"\\t\" + unicodedata.name(key) +  \"\\t\" + hex(ord(key)) + \"\\n\")\n",
    "    except:\n",
    "        o.write(key + \"\\t\" + \"Unknown\" +  \"\\t\" + unicodedata.decimal(key)  + \"\\n\")\n",
    "o.close()\n",
    "\n",
    "o = open(\"kuvi.txt\", mode='w', encoding='utf-8')\n",
    "o.write(bible_text)\n",
    "o.close()"
   ]
  },
  {
   "cell_type": "code",
   "execution_count": 29,
   "metadata": {},
   "outputs": [
    {
     "data": {
      "text/plain": [
       "['UCD',\n",
       " '__doc__',\n",
       " '__file__',\n",
       " '__loader__',\n",
       " '__name__',\n",
       " '__package__',\n",
       " '__spec__',\n",
       " 'bidirectional',\n",
       " 'category',\n",
       " 'combining',\n",
       " 'decimal',\n",
       " 'decomposition',\n",
       " 'digit',\n",
       " 'east_asian_width',\n",
       " 'lookup',\n",
       " 'mirrored',\n",
       " 'name',\n",
       " 'normalize',\n",
       " 'numeric',\n",
       " 'ucd_3_2_0',\n",
       " 'ucnhash_CAPI',\n",
       " 'unidata_version']"
      ]
     },
     "execution_count": 29,
     "metadata": {},
     "output_type": "execute_result"
    }
   ],
   "source": [
    "dir(unicodedata)"
   ]
  },
  {
   "cell_type": "code",
   "execution_count": 37,
   "metadata": {},
   "outputs": [
    {
     "data": {
      "text/plain": [
       "{'ఆ': 12093,\n",
       " 'ద': 17059,\n",
       " 'ి': 143611,\n",
       " 'క': 53492,\n",
       " 'ా': 44654,\n",
       " 'ం': 23042,\n",
       " 'డ': 20905,\n",
       " ' ': 208303,\n",
       " 'త': 63654,\n",
       " 'ొ': 26510,\n",
       " 'ల': 35759,\n",
       " '్': 98091,\n",
       " 'మ': 44405,\n",
       " 'ూ': 5062,\n",
       " 'ు': 55790,\n",
       " 'హ': 41078,\n",
       " 'ప': 25043,\n",
       " 'ర': 55449,\n",
       " 'గ': 19566,\n",
       " 'బ': 16136,\n",
       " 'చ': 22493,\n",
       " 'ె': 54776,\n",
       " 'స': 38738,\n",
       " 'ఏ': 14313,\n",
       " 'న': 65731,\n",
       " 'య': 31460,\n",
       " 'అ': 15572,\n",
       " 'వ': 29543,\n",
       " 'ణ': 15190,\n",
       " 'ఎ': 17284,\n",
       " 'ఁ': 51861,\n",
       " 'జ': 28416,\n",
       " 'ీ': 20653,\n",
       " 'ఉ': 771,\n",
       " 'ఇ': 21027,\n",
       " 'ట': 22586,\n",
       " 'ో': 11893,\n",
       " 'ే': 14527,\n",
       " 'ఓ': 2510,\n",
       " 'ఈ': 2392,\n",
       " '\\u200d': 884,\n",
       " '\\u200c': 103,\n",
       " 'ఊ': 403,\n",
       " 'ఒ': 3167,\n",
       " 'శ': 1849,\n",
       " 'ఙ': 571,\n",
       " 'ష': 15,\n",
       " 'ఐ': 241,\n",
       " 'ై': 257,\n",
       " 'ౌ': 376,\n",
       " 'ఖ': 1,\n",
       " 'భ': 1,\n",
       " '“': 2015,\n",
       " '‘': 176,\n",
       " '’': 176,\n",
       " '”': 2015,\n",
       " 'ఔ': 2,\n",
       " '…': 644}"
      ]
     },
     "execution_count": 37,
     "metadata": {},
     "output_type": "execute_result"
    }
   ],
   "source": [
    "char_inventory"
   ]
  },
  {
   "cell_type": "code",
   "execution_count": 104,
   "metadata": {},
   "outputs": [
    {
     "ename": "ValueError",
     "evalue": "no such name",
     "output_type": "error",
     "traceback": [
      "\u001b[1;31m---------------------------------------------------------------------------\u001b[0m",
      "\u001b[1;31mValueError\u001b[0m                                Traceback (most recent call last)",
      "\u001b[1;32m<ipython-input-104-60b7c71baae0>\u001b[0m in \u001b[0;36m<module>\u001b[1;34m\u001b[0m\n\u001b[0;32m      2\u001b[0m \u001b[1;32mfor\u001b[0m \u001b[0mcodepoint\u001b[0m \u001b[1;32min\u001b[0m \u001b[0mrange\u001b[0m\u001b[1;33m(\u001b[0m\u001b[1;36m0x0c01\u001b[0m\u001b[1;33m,\u001b[0m\u001b[1;36m0xc7f\u001b[0m\u001b[1;33m)\u001b[0m\u001b[1;33m:\u001b[0m\u001b[1;33m\u001b[0m\u001b[1;33m\u001b[0m\u001b[0m\n\u001b[0;32m      3\u001b[0m     \u001b[0mtel_cons\u001b[0m \u001b[1;33m=\u001b[0m \u001b[0mchr\u001b[0m\u001b[1;33m(\u001b[0m\u001b[0mcodepoint\u001b[0m\u001b[1;33m)\u001b[0m\u001b[1;33m\u001b[0m\u001b[1;33m\u001b[0m\u001b[0m\n\u001b[1;32m----> 4\u001b[1;33m     \u001b[0mname\u001b[0m \u001b[1;33m=\u001b[0m \u001b[0municodedata\u001b[0m\u001b[1;33m.\u001b[0m\u001b[0mname\u001b[0m\u001b[1;33m(\u001b[0m\u001b[0mtel_cons\u001b[0m\u001b[1;33m)\u001b[0m\u001b[1;33m\u001b[0m\u001b[1;33m\u001b[0m\u001b[0m\n\u001b[0m\u001b[0;32m      5\u001b[0m     \u001b[1;32mtry\u001b[0m\u001b[1;33m:\u001b[0m\u001b[1;33m\u001b[0m\u001b[1;33m\u001b[0m\u001b[0m\n\u001b[0;32m      6\u001b[0m         \u001b[0mindic2IPA\u001b[0m\u001b[1;33m[\u001b[0m\u001b[0mname\u001b[0m\u001b[1;33m.\u001b[0m\u001b[0mlower\u001b[0m\u001b[1;33m(\u001b[0m\u001b[1;33m)\u001b[0m\u001b[1;33m.\u001b[0m\u001b[0msplit\u001b[0m\u001b[1;33m(\u001b[0m\u001b[1;33m)\u001b[0m\u001b[1;33m[\u001b[0m\u001b[1;33m-\u001b[0m\u001b[1;36m1\u001b[0m\u001b[1;33m]\u001b[0m\u001b[1;33m]\u001b[0m \u001b[1;33m=\u001b[0m \u001b[1;34m\"\"\u001b[0m\u001b[1;33m\u001b[0m\u001b[1;33m\u001b[0m\u001b[0m\n",
      "\u001b[1;31mValueError\u001b[0m: no such name"
     ]
    }
   ],
   "source": [
    "indic2IPA = {}\n",
    "for codepoint in range(0x0c01,0xc7f):\n",
    "    tel_cons = chr(codepoint)\n",
    "    name = unicodedata.name(tel_cons)\n",
    "    try:\n",
    "        indic2IPA[name.lower().split()[-1]] = \"\"\n",
    "    except:\n",
    "        #print(name)\n",
    "        pass\n",
    "#print(\"char: {}, name: {}, ipa: {}\".format(tel_cons, \"_\".join((name.lower().split())), \"?\"))"
   ]
  },
  {
   "cell_type": "code",
   "execution_count": 83,
   "metadata": {},
   "outputs": [],
   "source": [
    "tel_alphabets = {\n",
    "    0x0c01: {\"char\":\"ఁ\", \"name\": \"Telugu Sign Candrabindu\",\"ipa\": \"◌̃\"},\n",
    "    0x0c02: {\"char\":\"ం\",\"name\": \"Telugu Sign Anusvara\", \"ipa\":\"m̃\"}\n",
    "                }"
   ]
  },
  {
   "cell_type": "code",
   "execution_count": 116,
   "metadata": {},
   "outputs": [],
   "source": [
    "def getIPA(char):\n",
    "    indic2IPA = {\n",
    "        \"ka\": \"k\", \"kha\": \"kʰ\", \"ga\": \"g\", \"gha\": \"gʰ\", \"nga\": \"ŋ\"\n",
    "        \n",
    "    }\n",
    "    return(indic2IPA.get(char, \"?\"))"
   ]
  },
  {
   "cell_type": "code",
   "execution_count": 102,
   "metadata": {},
   "outputs": [
    {
     "data": {
      "text/plain": [
       "{'candrabindu': '',\n",
       " 'anusvara': '',\n",
       " 'visarga': '',\n",
       " 'above': '',\n",
       " 'a': '',\n",
       " 'aa': '',\n",
       " 'i': '',\n",
       " 'ii': '',\n",
       " 'u': '',\n",
       " 'uu': '',\n",
       " 'r': '',\n",
       " 'l': ''}"
      ]
     },
     "execution_count": 102,
     "metadata": {},
     "output_type": "execute_result"
    }
   ],
   "source": [
    "indic2IPA"
   ]
  },
  {
   "cell_type": "code",
   "execution_count": 108,
   "metadata": {},
   "outputs": [],
   "source": [
    "alphabet = \"\\u0d15\""
   ]
  },
  {
   "cell_type": "code",
   "execution_count": 135,
   "metadata": {},
   "outputs": [
    {
     "name": "stdout",
     "output_type": "stream",
     "text": [
      "\"malayalam_letter_ka\" <> k ; ക\n"
     ]
    }
   ],
   "source": [
    "#print(\"char: {}, unicode name: {}, IPA: {}\".format(alphabet, \"_\".join(unicodedata.name(alphabet).lower().split()), getIPA(unicodedata.name(alphabet).lower().split()[-1])))\n",
    "print('\"{}\" <> {} ; {}'.format(\"_\".join(unicodedata.name(alphabet).lower().split()), getIPA(unicodedata.name(alphabet).lower().split()[-1]), alphabet))"
   ]
  },
  {
   "cell_type": "code",
   "execution_count": 140,
   "metadata": {},
   "outputs": [
    {
     "data": {
      "text/plain": [
       "3073"
      ]
     },
     "execution_count": 140,
     "metadata": {},
     "output_type": "execute_result"
    }
   ],
   "source": [
    "0x0c01"
   ]
  },
  {
   "cell_type": "code",
   "execution_count": 145,
   "metadata": {},
   "outputs": [
    {
     "data": {
      "text/plain": [
       "'౿'"
      ]
     },
     "execution_count": 145,
     "metadata": {},
     "output_type": "execute_result"
    }
   ],
   "source": [
    "\"\\u0c7f\""
   ]
  },
  {
   "cell_type": "code",
   "execution_count": 188,
   "metadata": {},
   "outputs": [
    {
     "name": "stdout",
     "output_type": "stream",
     "text": [
      "telugu_sign_candrabindu <> \"candrabindu\" ; ఁ\n",
      "telugu_sign_anusvara <> \"anusvara\" ; ం\n",
      "telugu_sign_visarga <> \"visarga\" ; ః\n",
      "telugu_sign_combining_anusvara_above <> \"above\" ; ఄ\n",
      "telugu_letter_a <> \"a\" ; అ\n",
      "telugu_letter_aa <> \"aa\" ; ఆ\n",
      "telugu_letter_i <> \"i\" ; ఇ\n",
      "telugu_letter_ii <> \"ii\" ; ఈ\n",
      "telugu_letter_u <> \"u\" ; ఉ\n",
      "telugu_letter_uu <> \"uu\" ; ఊ\n",
      "telugu_letter_vocalic_r <> \"r\" ; ఋ\n",
      "telugu_letter_vocalic_l <> \"l\" ; ఌ\n",
      "telugu_letter_e <> \"e\" ; ఎ\n",
      "telugu_letter_ee <> \"ee\" ; ఏ\n",
      "telugu_letter_ai <> \"ai\" ; ఐ\n",
      "telugu_letter_o <> \"o\" ; ఒ\n",
      "telugu_letter_oo <> \"oo\" ; ఓ\n",
      "telugu_letter_au <> \"au\" ; ఔ\n",
      "telugu_letter_ka <> \"ka\" ; క\n",
      "telugu_letter_kha <> \"kha\" ; ఖ\n",
      "telugu_letter_ga <> \"ga\" ; గ\n",
      "telugu_letter_gha <> \"gha\" ; ఘ\n",
      "telugu_letter_nga <> \"nga\" ; ఙ\n",
      "telugu_letter_ca <> \"ca\" ; చ\n",
      "telugu_letter_cha <> \"cha\" ; ఛ\n",
      "telugu_letter_ja <> \"ja\" ; జ\n",
      "telugu_letter_jha <> \"jha\" ; ఝ\n",
      "telugu_letter_nya <> \"nya\" ; ఞ\n",
      "telugu_letter_tta <> \"tta\" ; ట\n",
      "telugu_letter_ttha <> \"ttha\" ; ఠ\n",
      "telugu_letter_dda <> \"dda\" ; డ\n",
      "telugu_letter_ddha <> \"ddha\" ; ఢ\n",
      "telugu_letter_nna <> \"nna\" ; ణ\n",
      "telugu_letter_ta <> \"ta\" ; త\n",
      "telugu_letter_tha <> \"tha\" ; థ\n",
      "telugu_letter_da <> \"da\" ; ద\n",
      "telugu_letter_dha <> \"dha\" ; ధ\n",
      "telugu_letter_na <> \"na\" ; న\n",
      "telugu_letter_pa <> \"pa\" ; ప\n",
      "telugu_letter_pha <> \"pha\" ; ఫ\n",
      "telugu_letter_ba <> \"ba\" ; బ\n",
      "telugu_letter_bha <> \"bha\" ; భ\n",
      "telugu_letter_ma <> \"ma\" ; మ\n",
      "telugu_letter_ya <> \"ya\" ; య\n",
      "telugu_letter_ra <> \"ra\" ; ర\n",
      "telugu_letter_rra <> \"rra\" ; ఱ\n",
      "telugu_letter_la <> \"la\" ; ల\n",
      "telugu_letter_lla <> \"lla\" ; ళ\n",
      "telugu_letter_llla <> \"llla\" ; ఴ\n",
      "telugu_letter_va <> \"va\" ; వ\n",
      "telugu_letter_sha <> \"sha\" ; శ\n",
      "telugu_letter_ssa <> \"ssa\" ; ష\n",
      "telugu_letter_sa <> \"sa\" ; స\n",
      "telugu_letter_ha <> \"ha\" ; హ\n",
      "telugu_sign_avagraha <> \"avagraha\" ; ఽ\n",
      "telugu_vowel_sign_aa <> \"aa\" ; ా\n",
      "telugu_vowel_sign_i <> \"i\" ; ి\n",
      "telugu_vowel_sign_ii <> \"ii\" ; ీ\n",
      "telugu_vowel_sign_u <> \"u\" ; ు\n",
      "telugu_vowel_sign_uu <> \"uu\" ; ూ\n",
      "telugu_vowel_sign_vocalic_r <> \"r\" ; ృ\n",
      "telugu_vowel_sign_vocalic_rr <> \"rr\" ; ౄ\n",
      "telugu_vowel_sign_e <> \"e\" ; ె\n",
      "telugu_vowel_sign_ee <> \"ee\" ; ే\n",
      "telugu_vowel_sign_ai <> \"ai\" ; ై\n",
      "telugu_vowel_sign_o <> \"o\" ; ొ\n",
      "telugu_vowel_sign_oo <> \"oo\" ; ో\n",
      "telugu_vowel_sign_au <> \"au\" ; ౌ\n",
      "telugu_sign_virama <> \"virama\" ; ్\n",
      "telugu_length_mark <> \"mark\" ; ౕ\n",
      "telugu_ai_length_mark <> \"mark\" ; ౖ\n",
      "telugu_letter_tsa <> \"tsa\" ; ౘ\n",
      "telugu_letter_dza <> \"dza\" ; ౙ\n",
      "telugu_letter_rrra <> \"rrra\" ; ౚ\n",
      "telugu_letter_vocalic_rr <> \"rr\" ; ౠ\n",
      "telugu_letter_vocalic_ll <> \"ll\" ; ౡ\n",
      "telugu_vowel_sign_vocalic_l <> \"l\" ; ౢ\n",
      "telugu_vowel_sign_vocalic_ll <> \"ll\" ; ౣ\n",
      "telugu_digit_zero <> \"zero\" ; ౦\n",
      "telugu_digit_one <> \"one\" ; ౧\n",
      "telugu_digit_two <> \"two\" ; ౨\n",
      "telugu_digit_three <> \"three\" ; ౩\n",
      "telugu_digit_four <> \"four\" ; ౪\n",
      "telugu_digit_five <> \"five\" ; ౫\n",
      "telugu_digit_six <> \"six\" ; ౬\n",
      "telugu_digit_seven <> \"seven\" ; ౭\n",
      "telugu_digit_eight <> \"eight\" ; ౮\n",
      "telugu_digit_nine <> \"nine\" ; ౯\n",
      "telugu_fraction_digit_zero_for_odd_powers_of_four <> \"four\" ; ౸\n",
      "telugu_fraction_digit_one_for_odd_powers_of_four <> \"four\" ; ౹\n",
      "telugu_fraction_digit_two_for_odd_powers_of_four <> \"four\" ; ౺\n",
      "telugu_fraction_digit_three_for_odd_powers_of_four <> \"four\" ; ౻\n",
      "telugu_fraction_digit_one_for_even_powers_of_four <> \"four\" ; ౼\n",
      "telugu_fraction_digit_two_for_even_powers_of_four <> \"four\" ; ౽\n",
      "telugu_fraction_digit_three_for_even_powers_of_four <> \"four\" ; ౾\n",
      "telugu_sign_tuumu <> \"tuumu\" ; ౿\n"
     ]
    }
   ],
   "source": [
    "for ch in range(3073, 3200):\n",
    "    try:\n",
    "        teckName = teckitize_me(ch)\n",
    "        ipaChar = (teckName.split(\"_\")[-1])\n",
    "        print('{} <> \"{}\" ; {}'.format(teckName, ipaChar, chr(ch)))\n",
    "    except Exception as e:\n",
    "        # print(\"; {}, {} may be an empty slot in unicode chart\".format(str(e)), hex(ch))\n",
    "        pass"
   ]
  },
  {
   "cell_type": "code",
   "execution_count": 170,
   "metadata": {},
   "outputs": [
    {
     "data": {
      "text/plain": [
       "'TELUGU SIGN TUUMU'"
      ]
     },
     "execution_count": 170,
     "metadata": {},
     "output_type": "execute_result"
    }
   ],
   "source": [
    "unicodedata.name(chr(3199))"
   ]
  },
  {
   "cell_type": "code",
   "execution_count": 176,
   "metadata": {},
   "outputs": [],
   "source": [
    "def teckitize_me(ch):\n",
    "    return \"_\".join(unicodedata.name(chr(ch)).lower().split())\n",
    "    "
   ]
  },
  {
   "cell_type": "code",
   "execution_count": 177,
   "metadata": {},
   "outputs": [
    {
     "name": "stdout",
     "output_type": "stream",
     "text": [
      "malayalam_letter_lla\n"
     ]
    }
   ],
   "source": [
    "print(teckitize_me(3379))"
   ]
  },
  {
   "cell_type": "code",
   "execution_count": 193,
   "metadata": {},
   "outputs": [],
   "source": [
    "header_metadata = \"\"\"\n",
    "; This file was created by <beniza> using TECkitMappingEditorU.exe v4.0.0.0 on 12/17/2019.\n",
    ";   Conversion Type = Legacy_to_from_Unicode\n",
    ";   Left-hand side font = Gautami;18\n",
    ";   Right-hand side font = Charis SIL;15.75\n",
    ";   Main Window Position = 0,0,658,713\n",
    ";   Left-hand side Character Map Window Position = 658,0,457,447\n",
    ";   Right-hand side Character Map Window Position = 658,447,457,413\n",
    "\"\"\""
   ]
  },
  {
   "cell_type": "code",
   "execution_count": 192,
   "metadata": {},
   "outputs": [],
   "source": [
    "header = \"\"\"\n",
    "EncodingName            \"Telugu2IPA\"\n",
    "DescriptiveName         \"A Telugu to IPA converter\"\n",
    "Version                 \"1\"\n",
    "Contact                 \"mailto:beniza@gmail.com\"\n",
    "RegistrationAuthority   \"New Life Computer Institute\"\n",
    "RegistrationName        \"in.nlci.encodingconverter.telu2ipa\"\n",
    "Copyright               \"© 2019 NLCI. CC-BY-SA.\"\n",
    "LHSFlags                ()\n",
    "RHSFlags                ()\n",
    "\"\"\""
   ]
  },
  {
   "cell_type": "code",
   "execution_count": 194,
   "metadata": {},
   "outputs": [
    {
     "name": "stdout",
     "output_type": "stream",
     "text": [
      "DEVANAGARI SIGN INVERTED CANDRABINDU, 0x900\n",
      "BENGALI ANJI, 0x980\n",
      "GURMUKHI SIGN ADAK BINDI, 0xa01\n",
      "GUJARATI SIGN CANDRABINDU, 0xa81\n",
      "ORIYA SIGN CANDRABINDU, 0xb01\n",
      "TAMIL SIGN ANUSVARA, 0xb82\n",
      "TELUGU SIGN COMBINING CANDRABINDU ABOVE, 0xc00\n",
      "KANNADA SIGN SPACING CANDRABINDU, 0xc80\n",
      "MALAYALAM SIGN COMBINING ANUSVARA ABOVE, 0xd00\n",
      "SINHALA SIGN ANUSVARAYA, 0xd82\n"
     ]
    }
   ],
   "source": [
    "def printUni(ch):\n",
    "    try:\n",
    "        print(\"{}, {}\".format(unicodedata.name(chr(ch)), hex(ch)))\n",
    "    except Exception as e:\n",
    "        printUni(ch+1)\n",
    "\n",
    "base = 2304 # Devanagari (the first of the Indic Script blocks)\n",
    "for scriptnum in range (10):\n",
    "    ch = base + (scriptnum * 128) # Each Indic Unicode block is of the size 128\n",
    "    printUni(ch)\n",
    "    \n"
   ]
  },
  {
   "cell_type": "code",
   "execution_count": null,
   "metadata": {},
   "outputs": [],
   "source": []
  }
 ],
 "metadata": {
  "kernelspec": {
   "display_name": "Python 3",
   "language": "python",
   "name": "python3"
  },
  "language_info": {
   "codemirror_mode": {
    "name": "ipython",
    "version": 3
   },
   "file_extension": ".py",
   "mimetype": "text/x-python",
   "name": "python",
   "nbconvert_exporter": "python",
   "pygments_lexer": "ipython3",
   "version": "3.7.5"
  }
 },
 "nbformat": 4,
 "nbformat_minor": 2
}
