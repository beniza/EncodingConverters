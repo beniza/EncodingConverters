{
 "cells": [
  {
   "cell_type": "markdown",
   "metadata": {},
   "source": [
    "# Telugu 2 IPA Converter\n",
    "This projects aims at creating an encoding converter that can be used for converting Telugu (ISO 15924: `telu`) text to IPA. I might change this converter to a generic Indic to IPA converter. \n",
    "\n",
    "At the `stage 1` of this project, I'm only converting a subset of Telugu used in a minority language named Kuvi (ISO 639-3: `kxv`)."
   ]
  },
  {
   "cell_type": "markdown",
   "metadata": {},
   "source": [
    "This project is created to convert a corpus in Kuvi language into IPA. Due to the restrictions on the redistribution of the text, I can't share the original corpus publicly. However, the code is open source and is shared under a `CC-BY-SA`, `MIT` license. Please feel free to modify it."
   ]
  },
  {
   "cell_type": "markdown",
   "metadata": {},
   "source": [
    "The crucial part of this project is to create a file that maps the Telugu Unicode Codepoints with IPA. Since I'm not a Telugu speaker, I'm planning to use any publicly available mappings and I found a [Wikipedia article](https://en.wikipedia.org/wiki/Telugu_script) with the relevant information. "
   ]
  },
  {
   "cell_type": "markdown",
   "metadata": {},
   "source": [
    "## The code\n",
    "We use Python3 for this project."
   ]
  },
  {
   "cell_type": "markdown",
   "metadata": {},
   "source": [
    "### Libraries"
   ]
  },
  {
   "cell_type": "code",
   "execution_count": 27,
   "metadata": {},
   "outputs": [],
   "source": [
    "import os # for file operations\n",
    "import re # for text parsing\n",
    "import string #for cleanup\n",
    "import unicodedata # for processing the unicode text\n",
    "import pprint # for formatting"
   ]
  },
  {
   "cell_type": "markdown",
   "metadata": {},
   "source": [
    "### Load source files\n",
    "The sources files are (`Standard Format Markup: sfm`) marked up text "
   ]
  },
  {
   "cell_type": "code",
   "execution_count": 5,
   "metadata": {},
   "outputs": [
    {
     "name": "stdout",
     "output_type": "stream",
     "text": [
      "['01GENKUVI.SFM', '02EXOKUVI.SFM', '03LEVKUVI.SFM', '04NUMKUVI.SFM', '05DEUKUVI.SFM', '06JOSKUVI.SFM', '07JDGKUVI.SFM', '091SAKUVI.SFM', '102SAKUVI.SFM', '122KIKUVI.SFM', '131CHKUVI.SFM', '142CHKUVI.SFM', '19PSAKUVI.SFM', '20PROKUVI.SFM', '23ISAKUVI.SFM', '24JERKUVI.SFM', '28HOSKUVI.SFM', '32JONKUVI.SFM', '33MICKUVI.SFM', '38ZECKUVI.SFM', '41MATKUVI.SFM', '42MRKKUVI.SFM', '43LUKKUVI.SFM', '44JHNKUVI.SFM', '45ACTKUVI.SFM', '46ROMKUVI.SFM', '471COKUVI.SFM', '482COKUVI.SFM', '49GALKUVI.SFM', '50EPHKUVI.SFM', '51PHPKUVI.SFM', '52COLKUVI.SFM', '531THKUVI.SFM', '542THKUVI.SFM', '551TIKUVI.SFM', '562TIKUVI.SFM', '57TITKUVI.SFM', '58PHMKUVI.SFM', '59HEBKUVI.SFM', '60JASKUVI.SFM', '611PEKUVI.SFM', '622PEKUVI.SFM', '631JNKUVI.SFM', '642JNKUVI.SFM', '653JNKUVI.SFM', '66JUDKUVI.SFM', '67REVKUVI.SFM', '94XXAKUVI.SFM', '95XXBKUVI.SFM']\n"
     ]
    }
   ],
   "source": [
    "# kuvi_corpus_path = \"C:\\Users\\<user_name>\\Kuvi\"\n",
    "kuvi_corpus_path = \"E:\\My Paratext 9 Projects\\KUVI\"\n",
    "bible_files = [fn for fn in os.listdir(kuvi_corpus_path) if re.match(r'[0-9]+.*\\.SFM', fn)]\n",
    "print(bible_files)"
   ]
  },
  {
   "cell_type": "code",
   "execution_count": 6,
   "metadata": {},
   "outputs": [],
   "source": [
    "bible_text = \"\"\n",
    "\n",
    "for book in bible_files:\n",
    "    f = open(os.path.join(kuvi_corpus_path, book), 'r', encoding=\"utf-8\")\n",
    "    bible_text += f.read()\n"
   ]
  },
  {
   "cell_type": "markdown",
   "metadata": {},
   "source": [
    "### Cleanup\n",
    "Get rid of the markups, English alphabets, punctuations and numerals as we are not interested in them "
   ]
  },
  {
   "cell_type": "code",
   "execution_count": 8,
   "metadata": {},
   "outputs": [],
   "source": [
    "#bible_text = re.sub(\"\\\\\\\\[A-Za-z0-9]*?\\\\\\\\s\", \"\", bible_text)\n",
    "bible_text = re.sub(\"\\\\\\\\id .*\\n\", \"\", bible_text)\n",
    "bible_text = re.sub(\"\\\\\\\\[A-Za-z0-9]*?\\s\", \"\", bible_text)\n",
    "bible_text = re.sub(\"[A-Za-z0-9]\", \"\", bible_text)\n",
    "bible_text = re.sub(\"\\n\", \"\", bible_text)"
   ]
  },
  {
   "cell_type": "markdown",
   "metadata": {},
   "source": [
    "#### Remove punctuation characters\n",
    "\n",
    "Removing the punctuations from the text to avoid clutter.\n",
    "```\n",
    "Although there are several ways/approaches to accomplish this, using the translate method of the strings seem to be the most efficient method.\n",
    "```\n",
    "[Source: StackOverFlow](https://stackoverflow.com/questions/265960/best-way-to-strip-punctuation-from-a-string)"
   ]
  },
  {
   "cell_type": "code",
   "execution_count": 19,
   "metadata": {},
   "outputs": [],
   "source": [
    "s = bible_text"
   ]
  },
  {
   "cell_type": "code",
   "execution_count": 22,
   "metadata": {},
   "outputs": [],
   "source": [
    "table = str.maketrans(dict.fromkeys(string.punctuation))  # OR {key: None for key in string.punctuation}\n",
    "bible_text = s.translate(table) "
   ]
  },
  {
   "cell_type": "markdown",
   "metadata": {},
   "source": [
    "#### python 2\n",
    "> On Python 2, you'll have to use a different code to accomplish this.\n",
    "\n",
    "```python\n",
    "import string\n",
    "\n",
    "s = \"string. With. Punctuation?\"\n",
    "table = string.maketrans(\"\",\"\")\n",
    "new_s = s.translate(table, string.punctuation)      # Output: string without punctuation\n",
    "```\n",
    "\n",
    "#### Warning\n",
    "While it is easy to run a global cleanup like this to clean your text, you don't want to inadvertantly removing the punctuation marks with a `semantic role` in the text. So if your text has such usages of punctuation marks, please be careful and do it using another approaches. NLTK has modules that can do this out of the box.\n",
    "\n"
   ]
  },
  {
   "cell_type": "code",
   "execution_count": 24,
   "metadata": {},
   "outputs": [
    {
     "data": {
      "text/plain": [
       "'ఆదిఆదిఆదికాండం తొల్లిమూలు మహపురు హాగుతి బూమితి రచ్చి కిత్తెసి బూమిత ఏనయి హిల్లఅతె ఏని వాణవ హిల్లఅన వరఅయిఎ మచ్చె ఏ హారెఎ క్డుహాని ఏయుణ అందెరి ప్డిక్హాఁచె మహపురుజీవు ఏయులెక్కొ బర్రె పొర్హాఁచ్చెసి ఉజ్జెడి ఆపె ఇంజిఁ మహపురు వెస్సలిఎ ఉజ్జెడి ఆతె ఉజ్జెడి నెహఁయి ఇంజిఁ మహపురు మెస్తెసి అందెరిటి ఉజ్జెడితి మహపురు ఏర్సితెసి ఉజ్జెడితి మద్దెన ఇంజిఁ అందెరితి లాఅఁయఁ ఇంజిఁ మహపురు దోర్క ఇట్టితెసి అందెరి ఆహఁ వేయ్యలిఎ మూలుతి దిన్న ఆతె ఓడె ఏయుటి ఏయు ఎట్క ఆనిలేఁకిఁ ఏదఅఁ మద్ది హారెఎ పడ్డ ఆతి పొరొ ఆపెదెఁ ఇంజిఁ మహపురు వె'"
      ]
     },
     "execution_count": 24,
     "metadata": {},
     "output_type": "execute_result"
    }
   ],
   "source": [
    "bible_text[:500]"
   ]
  },
  {
   "cell_type": "markdown",
   "metadata": {},
   "source": [
    "### Create a character inventory with count"
   ]
  },
  {
   "cell_type": "code",
   "execution_count": 25,
   "metadata": {},
   "outputs": [],
   "source": [
    "char_inventory = {}\n",
    "\n",
    "for char in bible_text:\n",
    "    try:\n",
    "        char_inventory[char] += 1\n",
    "    except:\n",
    "        char_inventory[char] = 1\n"
   ]
  },
  {
   "cell_type": "code",
   "execution_count": null,
   "metadata": {},
   "outputs": [],
   "source": [
    "o = open(\"kuvi.tab\", mode='w', encoding='utf-8')\n",
    "for key, value in char_inventory.items():\n",
    "    \n",
    "    try:\n",
    "        o.write(key + \"\\t\" + unicodedata.name(key) +  \"\\t\" + hex(ord(key)) + \"\\n\")\n",
    "    except:\n",
    "        o.write(key + \"\\t\" + \"Unknown\" +  \"\\t\" + unicodedata.decimal(key)  + \"\\n\")\n",
    "o.close()\n",
    "\n",
    "o = open(\"kuvi.txt\", mode='w', encoding='utf-8')\n",
    "o.write(bible_text)\n",
    "o.close()"
   ]
  },
  {
   "cell_type": "code",
   "execution_count": 29,
   "metadata": {},
   "outputs": [
    {
     "data": {
      "text/plain": [
       "['UCD',\n",
       " '__doc__',\n",
       " '__file__',\n",
       " '__loader__',\n",
       " '__name__',\n",
       " '__package__',\n",
       " '__spec__',\n",
       " 'bidirectional',\n",
       " 'category',\n",
       " 'combining',\n",
       " 'decimal',\n",
       " 'decomposition',\n",
       " 'digit',\n",
       " 'east_asian_width',\n",
       " 'lookup',\n",
       " 'mirrored',\n",
       " 'name',\n",
       " 'normalize',\n",
       " 'numeric',\n",
       " 'ucd_3_2_0',\n",
       " 'ucnhash_CAPI',\n",
       " 'unidata_version']"
      ]
     },
     "execution_count": 29,
     "metadata": {},
     "output_type": "execute_result"
    }
   ],
   "source": [
    "dir(unicodedata)"
   ]
  },
  {
   "cell_type": "code",
   "execution_count": 32,
   "metadata": {},
   "outputs": [
    {
     "ename": "SyntaxError",
     "evalue": "invalid syntax (<ipython-input-32-ddce0ec00257>, line 1)",
     "output_type": "error",
     "traceback": [
      "\u001b[1;36m  File \u001b[1;32m\"<ipython-input-32-ddce0ec00257>\"\u001b[1;36m, line \u001b[1;32m1\u001b[0m\n\u001b[1;33m    unicodedata.decimal()?\u001b[0m\n\u001b[1;37m                         ^\u001b[0m\n\u001b[1;31mSyntaxError\u001b[0m\u001b[1;31m:\u001b[0m invalid syntax\n"
     ]
    }
   ],
   "source": [
    "unicodedata.lookup()"
   ]
  },
  {
   "cell_type": "code",
   "execution_count": 35,
   "metadata": {},
   "outputs": [
    {
     "ename": "TypeError",
     "evalue": "'dict_items' object is not subscriptable",
     "output_type": "error",
     "traceback": [
      "\u001b[1;31m---------------------------------------------------------------------------\u001b[0m",
      "\u001b[1;31mTypeError\u001b[0m                                 Traceback (most recent call last)",
      "\u001b[1;32m<ipython-input-35-be3d67eccffc>\u001b[0m in \u001b[0;36m<module>\u001b[1;34m\u001b[0m\n\u001b[1;32m----> 1\u001b[1;33m \u001b[1;32mfor\u001b[0m \u001b[0mkey\u001b[0m\u001b[1;33m,\u001b[0m \u001b[0mvalue\u001b[0m \u001b[1;32min\u001b[0m \u001b[0mchar_inventory\u001b[0m\u001b[1;33m.\u001b[0m\u001b[0mitems\u001b[0m\u001b[1;33m(\u001b[0m\u001b[1;33m)\u001b[0m\u001b[1;33m[\u001b[0m\u001b[1;33m:\u001b[0m\u001b[1;36m5\u001b[0m\u001b[1;33m]\u001b[0m\u001b[1;33m:\u001b[0m\u001b[1;33m\u001b[0m\u001b[1;33m\u001b[0m\u001b[0m\n\u001b[0m\u001b[0;32m      2\u001b[0m     \u001b[0mprint\u001b[0m\u001b[1;33m(\u001b[0m\u001b[0mkey\u001b[0m\u001b[1;33m)\u001b[0m\u001b[1;33m\u001b[0m\u001b[1;33m\u001b[0m\u001b[0m\n",
      "\u001b[1;31mTypeError\u001b[0m: 'dict_items' object is not subscriptable"
     ]
    }
   ],
   "source": [
    "for key, value in char_inventory.items()[:5]:\n",
    "    print(key)"
   ]
  },
  {
   "cell_type": "code",
   "execution_count": 37,
   "metadata": {},
   "outputs": [
    {
     "data": {
      "text/plain": [
       "{'ఆ': 12093,\n",
       " 'ద': 17059,\n",
       " 'ి': 143611,\n",
       " 'క': 53492,\n",
       " 'ా': 44654,\n",
       " 'ం': 23042,\n",
       " 'డ': 20905,\n",
       " ' ': 208303,\n",
       " 'త': 63654,\n",
       " 'ొ': 26510,\n",
       " 'ల': 35759,\n",
       " '్': 98091,\n",
       " 'మ': 44405,\n",
       " 'ూ': 5062,\n",
       " 'ు': 55790,\n",
       " 'హ': 41078,\n",
       " 'ప': 25043,\n",
       " 'ర': 55449,\n",
       " 'గ': 19566,\n",
       " 'బ': 16136,\n",
       " 'చ': 22493,\n",
       " 'ె': 54776,\n",
       " 'స': 38738,\n",
       " 'ఏ': 14313,\n",
       " 'న': 65731,\n",
       " 'య': 31460,\n",
       " 'అ': 15572,\n",
       " 'వ': 29543,\n",
       " 'ణ': 15190,\n",
       " 'ఎ': 17284,\n",
       " 'ఁ': 51861,\n",
       " 'జ': 28416,\n",
       " 'ీ': 20653,\n",
       " 'ఉ': 771,\n",
       " 'ఇ': 21027,\n",
       " 'ట': 22586,\n",
       " 'ో': 11893,\n",
       " 'ే': 14527,\n",
       " 'ఓ': 2510,\n",
       " 'ఈ': 2392,\n",
       " '\\u200d': 884,\n",
       " '\\u200c': 103,\n",
       " 'ఊ': 403,\n",
       " 'ఒ': 3167,\n",
       " 'శ': 1849,\n",
       " 'ఙ': 571,\n",
       " 'ష': 15,\n",
       " 'ఐ': 241,\n",
       " 'ై': 257,\n",
       " 'ౌ': 376,\n",
       " 'ఖ': 1,\n",
       " 'భ': 1,\n",
       " '“': 2015,\n",
       " '‘': 176,\n",
       " '’': 176,\n",
       " '”': 2015,\n",
       " 'ఔ': 2,\n",
       " '…': 644}"
      ]
     },
     "execution_count": 37,
     "metadata": {},
     "output_type": "execute_result"
    }
   ],
   "source": [
    "char_inventory"
   ]
  },
  {
   "cell_type": "code",
   "execution_count": null,
   "metadata": {},
   "outputs": [],
   "source": []
  }
 ],
 "metadata": {
  "kernelspec": {
   "display_name": "Python 3",
   "language": "python",
   "name": "python3"
  },
  "language_info": {
   "codemirror_mode": {
    "name": "ipython",
    "version": 3
   },
   "file_extension": ".py",
   "mimetype": "text/x-python",
   "name": "python",
   "nbconvert_exporter": "python",
   "pygments_lexer": "ipython3",
   "version": "3.7.5"
  }
 },
 "nbformat": 4,
 "nbformat_minor": 2
}
