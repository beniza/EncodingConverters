{
 "cells": [
  {
   "cell_type": "markdown",
   "metadata": {},
   "source": [
    "# Indic Text Transliterator\n",
    "\n",
    "To transliterate text in Indic languages from one script to another (including IPA and ISO transliteration schemes)"
   ]
  },
  {
   "cell_type": "markdown",
   "metadata": {},
   "source": [
    "## SIL Converter\n",
    "We use [SIL Converter](#) at this stage for the transliteration. Later we can use the same base rules for generating a node library and python library for the transliteration."
   ]
  },
  {
   "cell_type": "code",
   "execution_count": 5,
   "metadata": {},
   "outputs": [],
   "source": [
    "header_metadata = \"\"\"\n",
    "; This file was created by <beniza> using TECkitMappingEditorU.exe v4.0.0.0 on 12/17/2019.\n",
    ";   Conversion Type = Legacy_to_from_Unicode\n",
    ";   Left-hand side font = Gautami;18\n",
    ";   Right-hand side font = Charis SIL;15.75\n",
    ";   Main Window Position = 0,0,658,713\n",
    ";   Left-hand side Character Map Window Position = 658,0,457,447\n",
    ";   Right-hand side Character Map Window Position = 658,447,457,413\n",
    "\"\"\""
   ]
  },
  {
   "cell_type": "code",
   "execution_count": 6,
   "metadata": {},
   "outputs": [],
   "source": [
    "header = \"\"\"\n",
    "EncodingName            \"IndicTextTransliterator\"\n",
    "DescriptiveName         \"A multi-directional transliteration tool for text in Indic Scripts\"\n",
    "Version                 \"1\"\n",
    "Contact                 \"mailto:beniza@gmail.com\"\n",
    "RegistrationAuthority   \"New Life Computer Institute\"\n",
    "RegistrationName        \"in.nlci.encodingconverter.indictransliterator\"\n",
    "Copyright               \"© 2019 NLCI. CC-BY-SA.\"\n",
    "LHSFlags                ()\n",
    "RHSFlags                ()\n",
    "\"\"\""
   ]
  },
  {
   "cell_type": "code",
   "execution_count": 9,
   "metadata": {},
   "outputs": [],
   "source": [
    "import unicodedata"
   ]
  },
  {
   "cell_type": "code",
   "execution_count": 45,
   "metadata": {},
   "outputs": [],
   "source": [
    "def getScriptRange(scriptNum):\n",
    "    '''Returns the start and end codepoint of the script specified by the scriptnum'''\n",
    "    scriptStart = 2304 + scriptNum * 128 # Devanagari (the first of the Indic Script blocks). Each Indic Unicode block is of the size 128\n",
    "    return(scriptStart, scriptStart+128)"
   ]
  },
  {
   "cell_type": "code",
   "execution_count": 31,
   "metadata": {},
   "outputs": [],
   "source": [
    "def teckitizeChar(ch):\n",
    "    '''returns the unicode name of `ch` in lower case, joined with underscores'''\n",
    "    # Teckit maps requires unicode names in lower case and connected using underscores\n",
    "    try:\n",
    "        teckitizedName = \"_\".join(unicodedata.name(chr(ch)).lower().split())\n",
    "    except:\n",
    "        return False\n",
    "    return teckitizedName"
   ]
  },
  {
   "cell_type": "code",
   "execution_count": 84,
   "metadata": {},
   "outputs": [],
   "source": [
    "global reservedCodePoints\n",
    "reservedCodePoints = []"
   ]
  },
  {
   "cell_type": "code",
   "execution_count": 87,
   "metadata": {},
   "outputs": [
    {
     "name": "stdout",
     "output_type": "stream",
     "text": [
      "Warning! Couldn't find a name for the following codepoints. May be they're <reserved> codepoints in the block: 0xc0d, 0xc11, 0xc29, 0xc3a, 0xc3b, 0xc3c, 0xc45, 0xc49, 0xc4e, 0xc4f, 0xc50, 0xc51, 0xc52, 0xc53, 0xc54, 0xc57, 0xc5b, 0xc5c, 0xc5d, 0xc5e, 0xc5f, 0xc64, 0xc65, 0xc70, 0xc71, 0xc72, 0xc73, 0xc74, 0xc75, 0xc76, 0xc77\n"
     ]
    }
   ],
   "source": [
    "def generateTeckitMap(scriptNum):\n",
    "    '''Autogenerate the mappings according to the teckit language'''\n",
    "    ipaMapping = {'telugu_letter_a':  'a','telugu_letter_aa':  'aː','telugu_letter_i':  'i',\\\n",
    "         'telugu_letter_ii':  'iː','telugu_letter_u':  'u','telugu_letter_uu':  'uː',\\\n",
    "         'telugu_letter_vocalic_r':  'r̯','telugu_letter_vocalic_l':  'l̯','telugu_letter_e':  'e',\\\n",
    "         'telugu_letter_ee':  'eː','telugu_letter_ai':  'aⁱ','telugu_letter_o':  'o',\\\n",
    "         'telugu_letter_oo':  'oː','telugu_letter_au':  'aᵘ',\\\n",
    "         'telugu_letter_ka':  'k', 'telugu_letter_kha':  'kʰ','telugu_letter_ga':  'ɡ','telugu_letter_gha':  'ɡʱa', 'telugu_letter_nga':  'ŋa',\\\n",
    "         'telugu_letter_ca':  'tʃa','telugu_letter_cha':  'tʃʰa','telugu_letter_ja':  'dʒa','telugu_letter_jha':  'dʒʱa','telugu_letter_nya':  'ɲa',\\\n",
    "         'telugu_letter_tta':  'ṭa','telugu_letter_ttha':  'ʈʰa','telugu_letter_dda':  'ɖa','telugu_letter_ddha':  'ɖʱa','telugu_letter_nna':  'ɳa',\\\n",
    "         'telugu_letter_ta':  'ta','telugu_letter_tha':  'tʰa','telugu_letter_da':  'da','telugu_letter_dha':  'dʱa','telugu_letter_na':  'na',\\\n",
    "         'telugu_letter_pa':  'pa','telugu_letter_pha':  'pʰa','telugu_letter_ba':  'ba','telugu_letter_bha':  'bʱa','telugu_letter_ma':  'ma',\\\n",
    "         'telugu_letter_ya':  'ya','telugu_letter_ra':  'ja','telugu_letter_rra':  'ra','telugu_letter_la':  'la',\\\n",
    "         'telugu_letter_lla':  'ɭa','telugu_letter_llla':  'ɽa','telugu_letter_va':  'ʋa','telugu_letter_sha':  'ʃa',\\\n",
    "         'telugu_letter_ssa':  'ʂa','telugu_letter_sa':  'sa','telugu_letter_ha':  'ha','telugu_sign_avagraha':  '',\\\n",
    "         'telugu_vowel_sign_aa':  'aː','telugu_vowel_sign_i':  'i','telugu_vowel_sign_ii':  'iː','telugu_vowel_sign_u':  'u',\\\n",
    "         'telugu_vowel_sign_uu':  'uː','telugu_vowel_sign_vocalic_r':  'r̯','telugu_vowel_sign_vocalic_rr':  'l̯',\\\n",
    "         'telugu_vowel_sign_e':  'e','telugu_vowel_sign_ee':  'eː','telugu_vowel_sign_ai':  'aⁱ','telugu_vowel_sign_o':  'o',\\\n",
    "         'telugu_vowel_sign_oo':  'oː','telugu_vowel_sign_au':  'aᵘ','telugu_sign_virama':  '','telugu_length_mark':  '',\\\n",
    "         'telugu_ai_length_mark':  '','telugu_letter_tsa':  '','telugu_letter_dza':  '','telugu_letter_rrra':  '',\\\n",
    "         'telugu_letter_vocalic_rr':  'r̯ː','telugu_letter_vocalic_ll':  'l̯ː','telugu_vowel_sign_vocalic_l':  'r̯ː',\\\n",
    "         'telugu_vowel_sign_vocalic_ll':  'l̯ː','telugu_digit_zero':  '0','telugu_digit_one':  '1','telugu_digit_two':  '2',\\\n",
    "         'telugu_digit_three':  '3','telugu_digit_four':  '4','telugu_digit_five':  '5','telugu_digit_six':  '6',\\\n",
    "         'telugu_digit_seven':  '7','telugu_digit_eight':  '8','telugu_digit_nine':  '9'}\n",
    "    startCodePoint, endCodePoint = getScriptRange(scriptNum)\n",
    "    for codePoint in range(startCodePoint, endCodePoint):\n",
    "        teckName = teckitizeChar(codePoint)\n",
    "        \n",
    "        if teckName:\n",
    "            # ipaChar = teckName.split(\"_\")[-1] # this is not ipa at this point. TODO: Write a function\n",
    "            ipaChar = ipaMapping.get(teckName, False)\n",
    "            if(codePoint in range(2325 + scriptNum * 128, 2325 + scriptNum * 128+21)):\n",
    "               print('{} {} \"{}\"'.format(teckName, ' /_ [vowelSigns] > ', ipaChar))\n",
    "               print('{} <> \"{}{}\" ;{}'.format(teckName, ipaChar, \"a\", chr(codePoint)))\n",
    "            else:\n",
    "                print('{} <> \"{}\" ;{}'.format(teckName, ipaChar, chr(codePoint)))\n",
    "            # print('{}'.format(teckName))\n",
    "        else:\n",
    "            reservedCodePoints.append(hex(codePoint))\n",
    "print(\"Warning! {}: {}\".format(\"Couldn't find a name for the following codepoints. May be they're <reserved> codepoints in the block\", \", \".join(reservedCodePoints)))"
   ]
  },
  {
   "cell_type": "code",
   "execution_count": 89,
   "metadata": {},
   "outputs": [
    {
     "name": "stdout",
     "output_type": "stream",
     "text": [
      "telugu_sign_combining_candrabindu_above <> \"False\" ;ఀ\n",
      "telugu_sign_candrabindu <> \"False\" ;ఁ\n",
      "telugu_sign_anusvara <> \"False\" ;ం\n",
      "telugu_sign_visarga <> \"False\" ;ః\n",
      "telugu_sign_combining_anusvara_above <> \"False\" ;ఄ\n",
      "telugu_letter_a <> \"a\" ;అ\n",
      "telugu_letter_aa <> \"aː\" ;ఆ\n",
      "telugu_letter_i <> \"i\" ;ఇ\n",
      "telugu_letter_ii <> \"iː\" ;ఈ\n",
      "telugu_letter_u <> \"u\" ;ఉ\n",
      "telugu_letter_uu <> \"uː\" ;ఊ\n",
      "telugu_letter_vocalic_r <> \"r̯\" ;ఋ\n",
      "telugu_letter_vocalic_l <> \"l̯\" ;ఌ\n",
      "telugu_letter_e <> \"e\" ;ఎ\n",
      "telugu_letter_ee <> \"eː\" ;ఏ\n",
      "telugu_letter_ai <> \"aⁱ\" ;ఐ\n",
      "telugu_letter_o <> \"o\" ;ఒ\n",
      "telugu_letter_oo <> \"oː\" ;ఓ\n",
      "telugu_letter_au <> \"aᵘ\" ;ఔ\n",
      "telugu_letter_ka  / [vowelSigns] >  \"k\"\n",
      "telugu_letter_ka <> \"ka\" ;క\n",
      "telugu_letter_kha  / [vowelSigns] >  \"kʰ\"\n",
      "telugu_letter_kha <> \"kʰa\" ;ఖ\n",
      "telugu_letter_ga  / [vowelSigns] >  \"ɡ\"\n",
      "telugu_letter_ga <> \"ɡa\" ;గ\n",
      "telugu_letter_gha  / [vowelSigns] >  \"ɡʱa\"\n",
      "telugu_letter_gha <> \"ɡʱaa\" ;ఘ\n",
      "telugu_letter_nga  / [vowelSigns] >  \"ŋa\"\n",
      "telugu_letter_nga <> \"ŋaa\" ;ఙ\n",
      "telugu_letter_ca  / [vowelSigns] >  \"tʃa\"\n",
      "telugu_letter_ca <> \"tʃaa\" ;చ\n",
      "telugu_letter_cha  / [vowelSigns] >  \"tʃʰa\"\n",
      "telugu_letter_cha <> \"tʃʰaa\" ;ఛ\n",
      "telugu_letter_ja  / [vowelSigns] >  \"dʒa\"\n",
      "telugu_letter_ja <> \"dʒaa\" ;జ\n",
      "telugu_letter_jha  / [vowelSigns] >  \"dʒʱa\"\n",
      "telugu_letter_jha <> \"dʒʱaa\" ;ఝ\n",
      "telugu_letter_nya  / [vowelSigns] >  \"ɲa\"\n",
      "telugu_letter_nya <> \"ɲaa\" ;ఞ\n",
      "telugu_letter_tta  / [vowelSigns] >  \"ṭa\"\n",
      "telugu_letter_tta <> \"ṭaa\" ;ట\n",
      "telugu_letter_ttha  / [vowelSigns] >  \"ʈʰa\"\n",
      "telugu_letter_ttha <> \"ʈʰaa\" ;ఠ\n",
      "telugu_letter_dda  / [vowelSigns] >  \"ɖa\"\n",
      "telugu_letter_dda <> \"ɖaa\" ;డ\n",
      "telugu_letter_ddha  / [vowelSigns] >  \"ɖʱa\"\n",
      "telugu_letter_ddha <> \"ɖʱaa\" ;ఢ\n",
      "telugu_letter_nna  / [vowelSigns] >  \"ɳa\"\n",
      "telugu_letter_nna <> \"ɳaa\" ;ణ\n",
      "telugu_letter_ta  / [vowelSigns] >  \"ta\"\n",
      "telugu_letter_ta <> \"taa\" ;త\n",
      "telugu_letter_tha  / [vowelSigns] >  \"tʰa\"\n",
      "telugu_letter_tha <> \"tʰaa\" ;థ\n",
      "telugu_letter_da  / [vowelSigns] >  \"da\"\n",
      "telugu_letter_da <> \"daa\" ;ద\n",
      "telugu_letter_dha  / [vowelSigns] >  \"dʱa\"\n",
      "telugu_letter_dha <> \"dʱaa\" ;ధ\n",
      "telugu_letter_na  / [vowelSigns] >  \"na\"\n",
      "telugu_letter_na <> \"naa\" ;న\n",
      "telugu_letter_pa <> \"pa\" ;ప\n",
      "telugu_letter_pha <> \"pʰa\" ;ఫ\n",
      "telugu_letter_ba <> \"ba\" ;బ\n",
      "telugu_letter_bha <> \"bʱa\" ;భ\n",
      "telugu_letter_ma <> \"ma\" ;మ\n",
      "telugu_letter_ya <> \"ya\" ;య\n",
      "telugu_letter_ra <> \"ja\" ;ర\n",
      "telugu_letter_rra <> \"ra\" ;ఱ\n",
      "telugu_letter_la <> \"la\" ;ల\n",
      "telugu_letter_lla <> \"ɭa\" ;ళ\n",
      "telugu_letter_llla <> \"ɽa\" ;ఴ\n",
      "telugu_letter_va <> \"ʋa\" ;వ\n",
      "telugu_letter_sha <> \"ʃa\" ;శ\n",
      "telugu_letter_ssa <> \"ʂa\" ;ష\n",
      "telugu_letter_sa <> \"sa\" ;స\n",
      "telugu_letter_ha <> \"ha\" ;హ\n",
      "telugu_sign_avagraha <> \"\" ;ఽ\n",
      "telugu_vowel_sign_aa <> \"aː\" ;ా\n",
      "telugu_vowel_sign_i <> \"i\" ;ి\n",
      "telugu_vowel_sign_ii <> \"iː\" ;ీ\n",
      "telugu_vowel_sign_u <> \"u\" ;ు\n",
      "telugu_vowel_sign_uu <> \"uː\" ;ూ\n",
      "telugu_vowel_sign_vocalic_r <> \"r̯\" ;ృ\n",
      "telugu_vowel_sign_vocalic_rr <> \"l̯\" ;ౄ\n",
      "telugu_vowel_sign_e <> \"e\" ;ె\n",
      "telugu_vowel_sign_ee <> \"eː\" ;ే\n",
      "telugu_vowel_sign_ai <> \"aⁱ\" ;ై\n",
      "telugu_vowel_sign_o <> \"o\" ;ొ\n",
      "telugu_vowel_sign_oo <> \"oː\" ;ో\n",
      "telugu_vowel_sign_au <> \"aᵘ\" ;ౌ\n",
      "telugu_sign_virama <> \"\" ;్\n",
      "telugu_length_mark <> \"\" ;ౕ\n",
      "telugu_ai_length_mark <> \"\" ;ౖ\n",
      "telugu_letter_tsa <> \"\" ;ౘ\n",
      "telugu_letter_dza <> \"\" ;ౙ\n",
      "telugu_letter_rrra <> \"\" ;ౚ\n",
      "telugu_letter_vocalic_rr <> \"r̯ː\" ;ౠ\n",
      "telugu_letter_vocalic_ll <> \"l̯ː\" ;ౡ\n",
      "telugu_vowel_sign_vocalic_l <> \"r̯ː\" ;ౢ\n",
      "telugu_vowel_sign_vocalic_ll <> \"l̯ː\" ;ౣ\n",
      "telugu_digit_zero <> \"0\" ;౦\n",
      "telugu_digit_one <> \"1\" ;౧\n",
      "telugu_digit_two <> \"2\" ;౨\n",
      "telugu_digit_three <> \"3\" ;౩\n",
      "telugu_digit_four <> \"4\" ;౪\n",
      "telugu_digit_five <> \"5\" ;౫\n",
      "telugu_digit_six <> \"6\" ;౬\n",
      "telugu_digit_seven <> \"7\" ;౭\n",
      "telugu_digit_eight <> \"8\" ;౮\n",
      "telugu_digit_nine <> \"9\" ;౯\n",
      "telugu_fraction_digit_zero_for_odd_powers_of_four <> \"False\" ;౸\n",
      "telugu_fraction_digit_one_for_odd_powers_of_four <> \"False\" ;౹\n",
      "telugu_fraction_digit_two_for_odd_powers_of_four <> \"False\" ;౺\n",
      "telugu_fraction_digit_three_for_odd_powers_of_four <> \"False\" ;౻\n",
      "telugu_fraction_digit_one_for_even_powers_of_four <> \"False\" ;౼\n",
      "telugu_fraction_digit_two_for_even_powers_of_four <> \"False\" ;౽\n",
      "telugu_fraction_digit_three_for_even_powers_of_four <> \"False\" ;౾\n",
      "telugu_sign_tuumu <> \"False\" ;౿\n"
     ]
    }
   ],
   "source": [
    "generateTeckitMap(6)"
   ]
  },
  {
   "cell_type": "code",
   "execution_count": 66,
   "metadata": {},
   "outputs": [
    {
     "data": {
      "text/plain": [
       "2325"
      ]
     },
     "execution_count": 66,
     "metadata": {},
     "output_type": "execute_result"
    }
   ],
   "source": [
    "0x0915"
   ]
  },
  {
   "cell_type": "code",
   "execution_count": 68,
   "metadata": {},
   "outputs": [],
   "source": []
  },
  {
   "cell_type": "code",
   "execution_count": 69,
   "metadata": {},
   "outputs": [
    {
     "data": {
      "text/plain": [
       "'a'"
      ]
     },
     "execution_count": 69,
     "metadata": {},
     "output_type": "execute_result"
    }
   ],
   "source": [
    "d[\"telugu_letter_a\"]"
   ]
  },
  {
   "cell_type": "code",
   "execution_count": null,
   "metadata": {},
   "outputs": [],
   "source": []
  }
 ],
 "metadata": {
  "kernelspec": {
   "display_name": "Python 3",
   "language": "python",
   "name": "python3"
  },
  "language_info": {
   "codemirror_mode": {
    "name": "ipython",
    "version": 3
   },
   "file_extension": ".py",
   "mimetype": "text/x-python",
   "name": "python",
   "nbconvert_exporter": "python",
   "pygments_lexer": "ipython3",
   "version": "3.7.5"
  }
 },
 "nbformat": 4,
 "nbformat_minor": 2
}
